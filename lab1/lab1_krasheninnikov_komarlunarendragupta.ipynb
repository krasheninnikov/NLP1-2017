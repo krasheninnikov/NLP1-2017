{
 "cells": [
  {
   "cell_type": "code",
   "execution_count": 1,
   "metadata": {
    "collapsed": true
   },
   "outputs": [],
   "source": [
    "%matplotlib inline\n",
    "import matplotlib\n",
    "import numpy as np\n",
    "import matplotlib.pyplot as plt\n",
    "import pandas as pd\n",
    "import io\n",
    "from collections import defaultdict"
   ]
  },
  {
   "cell_type": "markdown",
   "metadata": {},
   "source": [
    "# Lab 1: Text Corpora and Language Modelling\n",
    "\n",
    "This lab is meant to help you get familiar with some language data, and use this data to estimate N-gram language models\n",
    "\n",
    "First you will use the **Penn Treebank**, which is a collection of newspaper articles from the newspaper \n",
    "The Wall Street Journal. The idea is to examine the data and notice interesting properties. This will not take more than a few lines of code.\n",
    "\n",
    "Then you will use a corpus consisting of **TedX** talks. This you will use to estimate an **N-gram language model** for different orders of N, and use this this for some tasks.\n",
    "\n",
    "The datasets are on blackboard under course materials. Download the zip and make sure to put the files in the same directory as the notebook.\n",
    "\n",
    "### Rules\n",
    "* The lab exercises should be made in **groups of two people**.\n",
    "\n",
    "* The deadline is **Tuesday 7 nov 16:59**.\n",
    "\n",
    "* The assignment should submitted to **Blackboard** as `.ipynb`. Only **one submission per group**.\n",
    "\n",
    "* The **filename** should be `lab1_lastname1_lastname2.ipynb`, so for example `lab1_Jurafsky_Martin.ipynb`.\n",
    "\n",
    "* The notebook is graded on a scale of **0-10**. The number of points for each question is indicated in parantheses. \n",
    "\n",
    "* The questions marked **optional** are not graded; they are an additional challenge for those interested in going the extra mile. \n",
    "\n",
    "Notes on implementation:\n",
    "\n",
    "* You should **write your code and answers in this iPython Notebook** (see http://ipython.org/notebook.html for reference material). If you have problems, please contact your teaching assistant.\n",
    "\n",
    "* Use only **one cell for code** and **one cell for markdown** answers!    \n",
    "\n",
    "    * Put all code in the cell with the `# YOUR CODE HERE` comment.\n",
    "    \n",
    "    * For theoretical question, put your solution in the YOUR ANSWER HERE cell.\n",
    "    \n",
    "* Test your code and **make sure we can run your notebook**"
   ]
  },
  {
   "cell_type": "markdown",
   "metadata": {},
   "source": [
    "# 1. Penn treebank\n",
    "\n",
    "## Exercise 1.1 (40 points, 5 points per subquestion )\n",
    "\n",
    "You are provided with a corpus containing words with their Part-of-Speech tags (POS-tags for short). The format is\n",
    "**word|POS** (one sentence per line) and the file name is **sec02-22.gold.tagged**. This data is extracted from Sections 02-22 from the Penn Treebank: these sections are most commonly used for training statistical models like POS-taggers and parsers.\n",
    "\n",
    "**[Hint]** **Figure 10.1** in chapter 10 of Jurafsky and Martin (see [here](https://web.stanford.edu/~jurafsky/slp3/10.pdf)) holds a summary of the 45 POS-tags used in the Penn Treebank tagset together with their meaning and some examples. (If you are keen on learning more about the word-classes represented POS-tags and their definitions you can do a litle reading ahead for next week and already have a look at section 10.1 of the same chapter).\n",
    "\n",
    "**[Hint]** the Python library [collections](https://docs.python.org/2/library/collections.html) has an object called `Counter` which will come in handy for this exercise."
   ]
  },
  {
   "cell_type": "markdown",
   "metadata": {},
   "source": [
    " "
   ]
  },
  {
   "cell_type": "markdown",
   "metadata": {},
   "source": [
    "**(a)** How large is the corpus? (i.e. how **many tokens**). And what is the size of the **vocabulary** used in this corpus? \n",
    "\n",
    "Estimate the vocabulary size both by **lowercasing** all the words as well as by leaving the words in their **original orthography**. What is an advantage of lowercasing all the words in your corpus? What is a notable downside? **Give examples.**"
   ]
  },
  {
   "cell_type": "code",
   "execution_count": 2,
   "metadata": {},
   "outputs": [
    {
     "name": "stdout",
     "output_type": "stream",
     "text": [
      "Corpus length: 929552.\n",
      "Vocabulary size using the lowercased corpus: 39384. \n",
      "Vocabulary size in the corpus with the original orthography: 44210.\n"
     ]
    }
   ],
   "source": [
    "def read_penn_treebank(path):\n",
    "    with open(path, 'r') as f:\n",
    "        data = f.read()\n",
    "        data = data.replace(' ', '\\n')\n",
    "    df = pd.read_csv(io.StringIO(data), '|', names=['word', 'POS'])\n",
    "    return df\n",
    "\n",
    "df_train = read_penn_treebank('data/sec02-21.gold.tagged')\n",
    "corpus_lower = df_train.word.apply(lambda x: x.lower())\n",
    "\n",
    "print('Corpus length: {}.'.format(len(df_train)))\n",
    "print('Vocabulary size using the lowercased corpus: {}. '.format(corpus_lower.nunique()))\n",
    "print('Vocabulary size in the corpus with the original orthography: {}.'.format(df_train.word.nunique()))"
   ]
  },
  {
   "cell_type": "markdown",
   "metadata": {},
   "source": [
    "The main advantage of lowercasing the corpus comes from the improved ability to model the beginnings of the sentences, since the capitalized words are not considered separately from their non-capitalized versions. For example, in the text \"I love my dog Charlie. My dog has brown fur.\", the bigrams \"My dog\" and \"my dog\" would be considered separate without lowercasing, which is the kind of thing that can lead to more sparsity problems when testing the model on previously unseen data.  \n",
    "\n",
    "The most notable disadvantage of lowercasing the corpus is that disambiguation of named entities and similarly written nouns becomes hard, and in some cases downright impossible. For example, \"China\" (country) vs \"china\" (material), \"Apple\" (company) vs \"apple\" (fruit), \"Grace\" (given name) vs \"grace\" (elegance of movement). POS tags would not help with disambiguation, since in e.g. PTB POS tags all of these would be labeled as NNP."
   ]
  },
  {
   "cell_type": "markdown",
   "metadata": {},
   "source": [
    "------\n",
    "For the rest of this exercise you should use the **original orthography** of the data when answering the questions.\n",
    "\n",
    "------\n"
   ]
  },
  {
   "cell_type": "markdown",
   "metadata": {},
   "source": [
    "**(b)** Plot a graph of word frequency versus rank of a word, in this corpus. Does this corpus obey **Zipf’s law**?"
   ]
  },
  {
   "cell_type": "code",
   "execution_count": 3,
   "metadata": {},
   "outputs": [
    {
     "data": {
      "image/png": "[encoded data removed]",
      "text/plain": [
       "<matplotlib.figure.Figure at 0x23ac13f1d68>"
      ]
     },
     "metadata": {},
     "output_type": "display_data"
    }
   ],
   "source": [
    "word_counts = df_train.groupby('word')['word'].count().sort_values(ascending=False)\n",
    "plt.loglog(np.asarray(word_counts, dtype='float32'))\n",
    "plt.show()\n",
    "# The resulting plot shows that the corpus does obey Zipf's Law."
   ]
  },
  {
   "cell_type": "markdown",
   "metadata": {},
   "source": [
    "**(c)** What are the **20 most common words** in the corpus and how often do they occur? What is the 50th most common word, the 100th and the 1000th and how often do they occur?"
   ]
  },
  {
   "cell_type": "code",
   "execution_count": 4,
   "metadata": {},
   "outputs": [
    {
     "name": "stdout",
     "output_type": "stream",
     "text": [
      "20 most common words in the corpus:\n",
      "rank \t \t word \t \t count\n",
      "1 \t \t , \t \t 48310\n",
      "2 \t \t the \t \t 40839\n",
      "3 \t \t . \t \t 38798\n",
      "4 \t \t of \t \t 22782\n",
      "5 \t \t to \t \t 22056\n",
      "6 \t \t a \t \t 19171\n",
      "7 \t \t and \t \t 15906\n",
      "8 \t \t in \t \t 15085\n",
      "9 \t \t 's \t \t 9249\n",
      "10 \t \t that \t \t 7951\n",
      "11 \t \t for \t \t 7912\n",
      "12 \t \t $ \t \t 7125\n",
      "13 \t \t is \t \t 6893\n",
      "14 \t \t The \t \t 6791\n",
      "15 \t \t said \t \t 5597\n",
      "16 \t \t on \t \t 5112\n",
      "17 \t \t % \t \t 4871\n",
      "18 \t \t it \t \t 4639\n",
      "19 \t \t by \t \t 4450\n",
      "20 \t \t from \t \t 4437\n",
      "\n",
      "\n",
      "50th most common word in the corpus:\n",
      "rank \t \t word \t \t count\n",
      "50 \t \t had \t \t 1755\n",
      "\n",
      "\n",
      "100th most common word in the corpus:\n",
      "rank \t \t word \t \t count\n",
      "100 \t \t A \t \t 860\n",
      "\n",
      "\n",
      "1000th most common word in the corpus:\n",
      "rank \t \t word \t \t count\n",
      "1000 \t \t aid \t \t 109\n"
     ]
    }
   ],
   "source": [
    "import operator\n",
    "\n",
    "def sorted_list_from_dict(x):\n",
    "    x = sorted(x.items(), key=operator.itemgetter(1), reverse=True)\n",
    "    x = [list(elem) for elem in x]\n",
    "    return x\n",
    "\n",
    "def pretty_print(i):\n",
    "    print('{} \\t \\t {} \\t \\t {}'.format(i+1, word_counts_list[i][0], word_counts_list[i][1]))\n",
    "\n",
    "word_counts_list = sorted_list_from_dict(word_counts)\n",
    "print('20 most common words in the corpus:')\n",
    "print(\"rank \\t \\t word \\t \\t count\")\n",
    "for i in range(20):\n",
    "    pretty_print(i)\n",
    "\n",
    "print('\\n')\n",
    "print('50th most common word in the corpus:')\n",
    "print(\"rank \\t \\t word \\t \\t count\")\n",
    "pretty_print(49)\n",
    "\n",
    "print('\\n')\n",
    "print('100th most common word in the corpus:')\n",
    "print(\"rank \\t \\t word \\t \\t count\")\n",
    "pretty_print(99)\n",
    "\n",
    "print('\\n')\n",
    "print('1000th most common word in the corpus:')\n",
    "print(\"rank \\t \\t word \\t \\t count\")\n",
    "pretty_print(999)"
   ]
  },
  {
   "cell_type": "markdown",
   "metadata": {},
   "source": [
    "**(d)** How many different Part-of-speech tags are present in the corpus?"
   ]
  },
  {
   "cell_type": "code",
   "execution_count": 5,
   "metadata": {
    "scrolled": true
   },
   "outputs": [
    {
     "name": "stdout",
     "output_type": "stream",
     "text": [
      "Number of POS tags present in the corpus: 48.\n"
     ]
    }
   ],
   "source": [
    "print('Number of POS tags present in the corpus: {}.'.format(df_train.POS.nunique()))"
   ]
  },
  {
   "cell_type": "markdown",
   "metadata": {},
   "source": [
    "**(e)** Print a list of the **10 most commonly occurring POS tags** in the data. For each of these POS tags, what are the **3 most common words** that belong to that class?"
   ]
  },
  {
   "cell_type": "code",
   "execution_count": 6,
   "metadata": {},
   "outputs": [
    {
     "name": "stdout",
     "output_type": "stream",
     "text": [
      "3 most common words belonging to the \"NN\" POS class:\n",
      "count \t \t word\n",
      "4866 \t \t %\n",
      "2457 \t \t company\n",
      "2220 \t \t year\n",
      "\n",
      "\n",
      "3 most common words belonging to the \"IN\" POS class:\n",
      "count \t \t word\n",
      "22778 \t \t of\n",
      "14852 \t \t in\n",
      "7907 \t \t for\n",
      "\n",
      "\n",
      "3 most common words belonging to the \"NNP\" POS class:\n",
      "count \t \t word\n",
      "4147 \t \t Mr.\n",
      "1577 \t \t U.S.\n",
      "1186 \t \t Corp.\n",
      "\n",
      "\n",
      "3 most common words belonging to the \"DT\" POS class:\n",
      "count \t \t word\n",
      "40831 \t \t the\n",
      "19151 \t \t a\n",
      "6753 \t \t The\n",
      "\n",
      "\n",
      "3 most common words belonging to the \"JJ\" POS class:\n",
      "count \t \t word\n",
      "1396 \t \t new\n",
      "1298 \t \t other\n",
      "990 \t \t last\n",
      "\n",
      "\n",
      "3 most common words belonging to the \"NNS\" POS class:\n",
      "count \t \t word\n",
      "1164 \t \t years\n",
      "1128 \t \t shares\n",
      "939 \t \t sales\n",
      "\n",
      "\n",
      "3 most common words belonging to the \",\" POS class:\n",
      "count \t \t word\n",
      "48310 \t \t ,\n",
      "1 \t \t underwriters\n",
      "1 \t \t section\n",
      "\n",
      "\n",
      "3 most common words belonging to the \".\" POS class:\n",
      "count \t \t word\n",
      "38798 \t \t .\n",
      "392 \t \t ?\n",
      "62 \t \t !\n",
      "\n",
      "\n",
      "3 most common words belonging to the \"CD\" POS class:\n",
      "count \t \t word\n",
      "4355 \t \t million\n",
      "1780 \t \t billion\n",
      "1203 \t \t one\n",
      "\n",
      "\n",
      "3 most common words belonging to the \"RB\" POS class:\n",
      "count \t \t word\n",
      "3211 \t \t n't\n",
      "1420 \t \t also\n",
      "1287 \t \t not\n",
      "\n",
      "\n"
     ]
    }
   ],
   "source": [
    "pos_counts_dict = df_train.groupby('POS')['POS'].count().sort_values(ascending=False)\n",
    "pos_counts = sorted_list_from_dict(pos_counts_dict)\n",
    "for pos, _ in pos_counts[:10]:\n",
    "    print('3 most common words belonging to the \"{}\" POS class:'.format(pos))\n",
    "    top3 = df_train[df_train.POS == pos].groupby('word')['word'].count().sort_values(ascending=False)[0:3]\n",
    "    \n",
    "    print('count', '\\t \\t', 'word')\n",
    "    for i in range(3):\n",
    "        print(top3.values[i], '\\t \\t', top3.index[i])\n",
    "    print('\\n') "
   ]
  },
  {
   "cell_type": "markdown",
   "metadata": {},
   "source": [
    "**(f)** A single word may have several POS-tags. For example, *record* can be a both a **noun** *(buy a record)* or a **verb** *(record a lecture)*. This make POS-tags extremely useful for **disambiguation**.\n",
    "\n",
    "What percentage of the words in the vocabulary is **ambiguous**? (i.e. have more than one POS tag?) What are the 10 most frequent combinations of POS tags in the case of ambitguity? Which words are **most ambiguous**? Give some of them."
   ]
  },
  {
   "cell_type": "code",
   "execution_count": 7,
   "metadata": {},
   "outputs": [
    {
     "name": "stdout",
     "output_type": "stream",
     "text": [
      "13.47% of the words in the vocabulary are ambiguous.\n",
      "\n",
      "\n",
      "10 most ambiguous words:\n",
      "open\n",
      "many\n",
      "set\n",
      "down\n",
      "put\n",
      "own\n",
      "hurt\n",
      "point\n",
      "that\n",
      "bet\n",
      "\n",
      "\n",
      "The 10 most frequent combinations of POS tags for the cases of ambiguity and their respective counts are:\n",
      "count \t \t POS tag combination\n",
      "772 \t \t VBD VBN \n",
      "662 \t \t JJ NN \n",
      "549 \t \t NN NNP \n",
      "375 \t \t VB VBP \n",
      "355 \t \t NNS VBZ \n",
      "351 \t \t NN VB \n",
      "314 \t \t NN VBG \n",
      "237 \t \t JJ VBD VBN \n",
      "233 \t \t NN VB VBP \n",
      "218 \t \t JJ NNP \n"
     ]
    }
   ],
   "source": [
    "pos_counts_per_word = df_train.groupby('word')['POS'].nunique().sort_values(ascending=False)\n",
    "pos_counts_per_word_ambig = pos_counts_per_word[pos_counts_per_word>1]\n",
    "\n",
    "percentage_ambiguous_voc = len(pos_counts_per_word[pos_counts_per_word>1])/len(pos_counts_per_word)*100\n",
    "print('{0:.2f}% of the words in the vocabulary are ambiguous.'.format(percentage_ambiguous_voc))\n",
    "\n",
    "print('\\n')\n",
    "print('10 most ambiguous words:')\n",
    "for i in range(10): print(pos_counts_per_word[i:i+1].keys()[0])\n",
    "\n",
    "\n",
    "ambig_words = list(pos_counts_per_word_ambig.keys())\n",
    "words_pos = df_train[df_train.word.isin(ambig_words)].groupby(['word','POS']).aggregate('count').index.tolist()\n",
    "\n",
    "word = ''\n",
    "pos_str = ''\n",
    "pos_str_dict = defaultdict(int)\n",
    "for w, p in words_pos:\n",
    "    if w == word:\n",
    "        pos_str += p+' '\n",
    "    else:\n",
    "        pos_str_dict[pos_str] += 1\n",
    "        pos_str = p+' '\n",
    "        word = w\n",
    "\n",
    "most_freq_pos_str = sorted_list_from_dict(pos_str_dict)[:10]\n",
    "print('\\n')\n",
    "print('The 10 most frequent combinations of POS tags for the cases of ambiguity and their respective counts are:')\n",
    "print('count', '\\t \\t', 'POS tag combination')\n",
    "for pos_str in most_freq_pos_str:\n",
    "    print(pos_str[1], '\\t \\t', pos_str[0])"
   ]
  },
  {
   "cell_type": "markdown",
   "metadata": {},
   "source": [
    "**(g)**  Print some of these words with their multiple POS-tags. Do you **understand the ambiguity**? Use figure 10.1 mentioned above to interpret the POS-tags."
   ]
  },
  {
   "cell_type": "code",
   "execution_count": 8,
   "metadata": {},
   "outputs": [
    {
     "name": "stdout",
     "output_type": "stream",
     "text": [
      "\n",
      "\n",
      "POS tags for the word \"little\" are:\n",
      "JJ NN RB \n",
      "\n",
      "POS tags for the word \"rate\" are:\n",
      "NN VBP "
     ]
    }
   ],
   "source": [
    "idx = [400, 1200]\n",
    "ambig_words_5 = pos_counts_per_word[pos_counts_per_word>1][idx].keys()\n",
    "random_words_pos = df_train[df_train.word.isin(ambig_words_5)].groupby(['word','POS']).aggregate('count').index.tolist()\n",
    "\n",
    "w = ''\n",
    "for word, pos in random_words_pos:\n",
    "    if w!=word:\n",
    "        print('\\n')\n",
    "        print ('POS tags for the word \"{}\" are:'.format(word))\n",
    "        print(pos, end = ' ')\n",
    "        w = word\n",
    "    else:\n",
    "        print(pos, end = ' ')"
   ]
  },
  {
   "cell_type": "markdown",
   "metadata": {},
   "source": [
    "The POS tags provided for the words \"little\" and \"rate\" do make sense. Different contexts are given for \"little\" and \"rate\" being different parts of speech in the following examples:\n",
    "\n",
    "**little**:\n",
    "\n",
    "- little boy (JJ)\n",
    "- he got a little help from a training scheme (NN)\n",
    "- he was little known in this country (RB)\n",
    "\n",
    "**rate**:\n",
    "- I was asked to rate the app in the app store (VBP)\n",
    "- the rate of change was higher than I expected (NN)"
   ]
  },
  {
   "cell_type": "markdown",
   "metadata": {},
   "source": [
    "**(h)** Ambiguous words do not account for a great percentage of the vocabulary. Yet they are among the most commonly occuring words of the English language. What **percentage of the dataset is ambiguous**?"
   ]
  },
  {
   "cell_type": "code",
   "execution_count": 9,
   "metadata": {},
   "outputs": [
    {
     "name": "stdout",
     "output_type": "stream",
     "text": [
      "55.08% of the given corpus is ambiguous.\n"
     ]
    }
   ],
   "source": [
    "ambig_words = pos_counts_per_word[pos_counts_per_word>1].keys()\n",
    "percentage_ambiguous_corp = len(df_train[df_train.word.isin(ambig_words)])/len(df_train)*100\n",
    "print('{0:.2f}% of the given corpus is ambiguous.'.format(percentage_ambiguous_corp))"
   ]
  },
  {
   "cell_type": "markdown",
   "metadata": {},
   "source": [
    "## Exercise 1.2 (10 points, 5 per subquestion)"
   ]
  },
  {
   "cell_type": "markdown",
   "metadata": {},
   "source": [
    "You are also provided with another file called **sec00.gold.tagged**. \n",
    "Section 00 of the Penn Treebank is typically used as development data."
   ]
  },
  {
   "cell_type": "markdown",
   "metadata": {},
   "source": [
    "**(a)** How many **unseen words** are present in the development data (i.e., words that have not occurred in the training data)?"
   ]
  },
  {
   "cell_type": "code",
   "execution_count": 10,
   "metadata": {
    "scrolled": false
   },
   "outputs": [
    {
     "name": "stdout",
     "output_type": "stream",
     "text": [
      "1288\n"
     ]
    }
   ],
   "source": [
    "df_test = read_penn_treebank('data/sec00.gold.tagged')\n",
    "unseen_words = set(df_test.word.unique()) - set(df_train.word.unique())\n",
    "print(len(unseen_words))"
   ]
  },
  {
   "cell_type": "markdown",
   "metadata": {},
   "source": [
    "**(b)** What are the three **POS tag categories** that the most **unseen words** belong to?"
   ]
  },
  {
   "cell_type": "code",
   "execution_count": 11,
   "metadata": {
    "scrolled": true
   },
   "outputs": [
    {
     "name": "stdout",
     "output_type": "stream",
     "text": [
      "The 3 most frequent POS tags for the unseen words and their respective counts are:\n",
      "count \t \t POS tag\n",
      "489 \t \t NNP\n",
      "236 \t \t JJ\n",
      "175 \t \t NN\n"
     ]
    }
   ],
   "source": [
    "unseen_words_pos = df_test[df_test.word.isin(unseen_words)].groupby(['word','POS']).aggregate('count').index.tolist()\n",
    "\n",
    "pos_dict = defaultdict(int)\n",
    "for _, pos in unseen_words_pos:\n",
    "    pos_dict[pos] += 1\n",
    "    \n",
    "pos_list = sorted_list_from_dict(pos_dict)\n",
    "print('The 3 most frequent POS tags for the unseen words and their respective counts are:')\n",
    "print('count', '\\t \\t', 'POS tag')\n",
    "for elem in pos_list[:3]:\n",
    "    print(elem[1], '\\t \\t', elem[0])"
   ]
  },
  {
   "cell_type": "markdown",
   "metadata": {},
   "source": [
    "# 2. Language Models\n",
    "\n",
    "This part of the lab will be covered in the Wednesday lecture. If you have prior exposure to NLP, go ahead and finish this part! If you don't, start anyway, and this part will be clear after the lecture. \n",
    "\n",
    "Reference **chapter 4** of J&M *Language Modeling with N-Grams*. \n",
    "\n",
    "----------\n",
    "\n",
    "Models that assign **probabilities** to **sequences of words** are called language **language\n",
    "modelels** or **LMs**. The simplest model that assigns probabilities to sentences and sequences of words is the **N-gram** model.\n",
    "\n",
    "Recall that an *N*-gram language model uses **conditional probabilities** of the form\n",
    "    \n",
    "$$P(w_k \\mid w_{k-N+1} \\dots w_{k-1})$$\n",
    "\n",
    "to **approximate** the full **joint probability**\n",
    "\n",
    "$$P(w_1 \\dots w_n)$$\n",
    "\n",
    "of a sequence of words $w_1 \\dots w_n$.\n",
    "\n",
    "The easiest way of obtaining estimates for the probabilities $P(w_k \\mid w_{k-N+1} \\dots w_{k-1})$ is to use the **maximum likelihood estimate** or **MLE**, a widely used statistical estimation method ([read more]((https://en.wikipedia.org/wiki/Maximum_likelihood_estimation)). You count and normalize:\n",
    "\n",
    "$$P_{MLE}(w_k \\mid w_{k-N+1} \\dots w_{k-1}) = \\frac{C(w_{k-N+1} \\dots w_{k-1} w_k)}{C(w_{k-N+1} \\dots w_{k-1})}.$$\n",
    "\n",
    "\n",
    "## Exercise 2.1 (25 points)\n",
    "\n",
    "**(a) ** Complete the function `train_ngram` so that you can train a count-based $N$-gram language model on the data found in `data/ted-train.txt` and train this for $N=2,3,4$. **15 points**\n",
    "\n",
    "**(b) ** Extend the function above so that it accepts a parameter `k` for optional add-$k$ smoothing. **10 points**\n",
    "\n",
    "**[Datastructure hint]** If you store the smoothed language in a naive manner (that is, to store *all* the numbers separately) your datastructure will get huge! If $V$ is the vocabulary then the smoothed bigram model assigns probabilities to $|V|^2$ entries. If $|V|$ is around 80k, the naive way requires you to store more than 64 billion floats. Yet almost all of these are actually just $P(w_n|w_{n-1}) = \\frac{k}{N + k|V|}$, with $k$ the value with which you smooth and $N=C(w_{n-1})$. Think about how you use this fact to make your model work in practice."
   ]
  },
  {
   "cell_type": "markdown",
   "metadata": {},
   "source": [
    "**[Python hint]** The `collections` library has another useful datastructure: the `defaultdict`. Some example uses:"
   ]
  },
  {
   "cell_type": "code",
   "execution_count": 12,
   "metadata": {},
   "outputs": [
    {
     "data": {
      "text/plain": [
       "0.0"
      ]
     },
     "execution_count": 12,
     "metadata": {},
     "output_type": "execute_result"
    }
   ],
   "source": [
    "from collections import defaultdict\n",
    "\n",
    "d = defaultdict(float)\n",
    "d[\"new key\"]"
   ]
  },
  {
   "cell_type": "markdown",
   "metadata": {},
   "source": [
    "Compare that to an ordinary dictionary:"
   ]
  },
  {
   "cell_type": "code",
   "execution_count": 13,
   "metadata": {
    "collapsed": true
   },
   "outputs": [],
   "source": [
    "#d = dict()\n",
    "#d[\"new key\"]"
   ]
  },
  {
   "cell_type": "markdown",
   "metadata": {},
   "source": [
    "Other datatypes as `default_factory`:"
   ]
  },
  {
   "cell_type": "code",
   "execution_count": 14,
   "metadata": {},
   "outputs": [
    {
     "data": {
      "text/plain": [
       "0"
      ]
     },
     "execution_count": 14,
     "metadata": {},
     "output_type": "execute_result"
    }
   ],
   "source": [
    "d = defaultdict(int)\n",
    "d[\"new key\"]"
   ]
  },
  {
   "cell_type": "code",
   "execution_count": 15,
   "metadata": {},
   "outputs": [
    {
     "data": {
      "text/plain": [
       "[]"
      ]
     },
     "execution_count": 15,
     "metadata": {},
     "output_type": "execute_result"
    }
   ],
   "source": [
    "d = defaultdict(list)\n",
    "d[\"new key\"]"
   ]
  },
  {
   "cell_type": "markdown",
   "metadata": {},
   "source": [
    "Converting an already existing `dict`:"
   ]
  },
  {
   "cell_type": "code",
   "execution_count": 16,
   "metadata": {},
   "outputs": [
    {
     "name": "stdout",
     "output_type": "stream",
     "text": [
      "value\n",
      "0.0\n"
     ]
    }
   ],
   "source": [
    "d1 = {k: \"value\" for k in range(1, 11)}\n",
    "d = defaultdict(float, d1) # convert it to a defaultdict\n",
    "print(d[5])\n",
    "print(d[100])"
   ]
  },
  {
   "cell_type": "markdown",
   "metadata": {},
   "source": [
    "This doesn't work:"
   ]
  },
  {
   "cell_type": "code",
   "execution_count": 17,
   "metadata": {
    "collapsed": true
   },
   "outputs": [],
   "source": [
    "#d = defaultdict(10)"
   ]
  },
  {
   "cell_type": "markdown",
   "metadata": {},
   "source": [
    "Use a `lambda` to make the number `10` `callable`\":"
   ]
  },
  {
   "cell_type": "code",
   "execution_count": 18,
   "metadata": {},
   "outputs": [
    {
     "data": {
      "text/plain": [
       "10"
      ]
     },
     "execution_count": 18,
     "metadata": {},
     "output_type": "execute_result"
    }
   ],
   "source": [
    "d = defaultdict(lambda: 10)\n",
    "d[\"new key\"]"
   ]
  },
  {
   "cell_type": "code",
   "execution_count": 19,
   "metadata": {},
   "outputs": [
    {
     "data": {
      "text/plain": [
       "defaultdict(float, {})"
      ]
     },
     "execution_count": 19,
     "metadata": {},
     "output_type": "execute_result"
    }
   ],
   "source": [
    "d = defaultdict(lambda: defaultdict(float))\n",
    "d[\"new key\"]"
   ]
  },
  {
   "cell_type": "markdown",
   "metadata": {},
   "source": [
    "Clever use of a `defaultdict` can be the solution to the problem of data-storing in a smoothing $N$-gram pointed out above:\n",
    "    \n",
    "    ngram = defaultdict(lambda: k/(N+kV), ngram)"
   ]
  },
  {
   "cell_type": "markdown",
   "metadata": {},
   "source": [
    "The following function is given:"
   ]
  },
  {
   "cell_type": "code",
   "execution_count": 20,
   "metadata": {
    "collapsed": true
   },
   "outputs": [],
   "source": [
    "from collections import Counter"
   ]
  },
  {
   "cell_type": "code",
   "execution_count": 21,
   "metadata": {
    "collapsed": true
   },
   "outputs": [],
   "source": [
    "train_file = \"data/ted-train.txt\"\n",
    "\n",
    "def read(fname, max_lines=np.inf):\n",
    "    \"\"\"\n",
    "    Reads in the data in fname and returns it as\n",
    "    one long list of words. Also returns a vocabulary in\n",
    "    the form of a word2index and index2word dictionary.\n",
    "    \"\"\"\n",
    "    data = []\n",
    "    # w2i will automatically keep a counter to asign to new words\n",
    "    w2i = defaultdict(lambda: len(w2i))\n",
    "    i2w = dict()\n",
    "    start = \"<s>\"\n",
    "    end = \"</s>\"\n",
    "    \n",
    "    with open(fname, \"r\", encoding=\"utf8\") as fh:\n",
    "        for k, line in enumerate(fh):\n",
    "            if k > max_lines:\n",
    "                break\n",
    "            words = line.strip().split()\n",
    "            # assign an index to each word\n",
    "            for w in words:\n",
    "                i2w[w2i[w]] = w # trick\n",
    "            \n",
    "            sent = [start] + words + [end]\n",
    "            data.append(sent)\n",
    "\n",
    "    return data, w2i, i2w"
   ]
  },
  {
   "cell_type": "code",
   "execution_count": 22,
   "metadata": {
    "collapsed": true
   },
   "outputs": [],
   "source": [
    "def train_ngram(data, N, k=0):\n",
    "    \"\"\"\n",
    "    Trains an n-gram language model with optional add-k smoothing\n",
    "    and additionaly returns the unigram model\n",
    "    \n",
    "    :param data: text-data as returned by read\n",
    "    :param N: (N>1) the order of the ngram e.g. N=2 gives a bigram\n",
    "    :param k: optional add-k smoothing\n",
    "    :returns: ngram and unigram\n",
    "    \"\"\"\n",
    "    unpacked_data = [word for sent in data for word in sent]\n",
    "    V = len(set(unpacked_data))  # size of vocabulary\n",
    "    word_count = len(unpacked_data)  # Total word count\n",
    "\n",
    "    unigram = defaultdict(lambda: k / (word_count + k * V), Counter(unpacked_data)) # default prob is 0.0\n",
    "    if k ==0:\n",
    "        ngram = defaultdict(lambda: defaultdict(float))\n",
    "    else:\n",
    "        ngram = defaultdict(lambda: defaultdict(lambda: k / k*V))\n",
    "\n",
    "    if N is not None and N > 1:\n",
    "        for sent in data:\n",
    "            for i in range(N - 1, len(sent)):\n",
    "                history = ' '.join(sent[i - N + 1:i])\n",
    "                ngram[history][sent[i]] += 1\n",
    "\n",
    "    ## Adjusted counts according to k-smoothing\n",
    "    # For unigram,\n",
    "    for word in unigram:\n",
    "        unigram[word] = float(unigram[word] + k) / (k * V + word_count)\n",
    "\n",
    "    # For ngram,\n",
    "    for history in ngram.keys():\n",
    "        history_count = sum(ngram[history].values())\n",
    "        ngram[history] = defaultdict(lambda: k / (k * V + history_count), ngram[history])\n",
    "\n",
    "        for word in ngram[history].keys():\n",
    "            ngram[history][word] = (ngram[history][word] + k) / (k * V + history_count)\n",
    "\n",
    "    return ngram, unigram\n",
    "\n",
    "\n",
    "data, w2i, i2w = read(train_file)"
   ]
  },
  {
   "cell_type": "code",
   "execution_count": 23,
   "metadata": {
    "collapsed": true
   },
   "outputs": [],
   "source": [
    "# 2.1 a\n",
    "bigram, unigram = train_ngram(data, N=2, k=0)\n",
    "trigram, _ = train_ngram(data, N=3, k=0)\n",
    "quadgram, _ = train_ngram(data, N=4, k=0)"
   ]
  },
  {
   "cell_type": "code",
   "execution_count": 24,
   "metadata": {
    "collapsed": true
   },
   "outputs": [],
   "source": [
    "# 2.1 b\n",
    "bigram_smoothed_1, unigram_smoothed_1 = train_ngram(data, N=2, k=1)\n",
    "trigram_smoothed_1, _ = train_ngram(data, N=3, k=1)\n",
    "quadgram_smoothed_1, _ = train_ngram(data, N=4, k=1)"
   ]
  },
  {
   "cell_type": "markdown",
   "metadata": {},
   "source": [
    "## Exercise 2.2 (5 points)\n",
    "\n",
    "You can use an *N*-gram language model to **generate text**. The higher the order *N* the better your model will be able to catch the long-range dependecies that occur in actual sentences and the better your changes are at generating sensible text. But beware: **sparsity** of language data will quickly cause your model to reproduce entire lines from your training data; in such cases only one $w_k$ was observed for the histories $w_{k-N+1}\\dots w_{k-1}$ in the entire training-set.\n",
    "\n",
    "**Complete** the function `generate_sent`. It takes a language model `lm` and an order `N` and should generate a sentence by **sampling** from the language model.\n",
    "\n",
    "**[Hint]** You can use the method of [inverse transform sampling](https://en.wikipedia.org/wiki/Inverse_transform_sampling) to generate a sample from a **categorical distribution**, $p_1\\dots p_k$ such that $p_i \\geq 0$ and $\\sum_{i=1}^k p_i = 1$, as follows:"
   ]
  },
  {
   "cell_type": "code",
   "execution_count": 25,
   "metadata": {},
   "outputs": [
    {
     "name": "stdout",
     "output_type": "stream",
     "text": [
      "1\n",
      "Counter({1: 511, 2: 199, 0: 190, 3: 100})\n"
     ]
    }
   ],
   "source": [
    "from random import random\n",
    "\n",
    "P = [0.2,0.5,0.2,0.1]\n",
    "\n",
    "def sample(P):\n",
    "    u = random() # uniformly random number between 0 and 1\n",
    "    p = 0\n",
    "\n",
    "    for i, p_i in enumerate(P):\n",
    "        p += p_i\n",
    "        if p > u: \n",
    "            return i  # the first i s.t. p1 + ... + pi > u\n",
    "        \n",
    "print(sample(P))\n",
    "\n",
    "print(Counter([sample(P) for i in range(1000)])) # check to see if the law of large numbers is still true"
   ]
  },
  {
   "cell_type": "markdown",
   "metadata": {},
   "source": [
    "Inverse transform sampling in the words of Jurafsky and Martin:\n",
    "\n",
    "> Imagine all the words of the English language covering the probability space\n",
    "between 0 and 1, each word covering an interval proportional to its frequency. We\n",
    "choose a random value between 0 and 1 and print the word whose interval includes\n",
    "this chosen value.\n",
    "\n",
    "(J&M, section 4.3)"
   ]
  },
  {
   "cell_type": "code",
   "execution_count": 26,
   "metadata": {},
   "outputs": [
    {
     "name": "stdout",
     "output_type": "stream",
     "text": [
      "Generated sentence 1: <s> It 's an unthinkable . </s>\n",
      "\n",
      "\n",
      "Generated sentence 2: <s> I 'm a two-by-two where I was constantly scouring the CEOs around , \"This is key influencers now in Sweden , and the moral skill ladder to middle-school girls from the laboratory , \"There is a wireless network . </s>\n",
      "\n",
      "\n",
      "Generated sentence 3: <s> And he lives and they say \"Well , the person in there 's four years Will Jones character , imagine a way that are connected with my hospital , partially fair . </s>\n"
     ]
    }
   ],
   "source": [
    "def generate_sent(lm, N):\n",
    "    ngram, unigram = train_ngram(lm, N=N, k=0)\n",
    "\n",
    "    # history is the previous word generated\n",
    "    history = '<s>'\n",
    "    # initialize sentence\n",
    "    sent = ['<s>']\n",
    "\n",
    "    # loop until the sentence stopper, </s> is encountered\n",
    "    while history != '</s>':\n",
    "        words = ngram.get(history)\n",
    "        # Choose the word which includes the random probability value\n",
    "        chosen = sample(list(words.values()))\n",
    "\n",
    "        history = list(words.keys())[chosen]\n",
    "        sent += [history]\n",
    "\n",
    "    return ' '.join(sent)\n",
    "\n",
    "\n",
    "# Generate sentences\n",
    "print('Generated sentence 1: {0}'.format(generate_sent(data, 2)))\n",
    "print('\\n')\n",
    "print('Generated sentence 2: {0}'.format(generate_sent(data, 2)))\n",
    "print('\\n')\n",
    "print('Generated sentence 3: {0}'.format(generate_sent(data, 2)))"
   ]
  },
  {
   "cell_type": "markdown",
   "metadata": {},
   "source": [
    "### [Optional]\n",
    "\n",
    "For how many of the histories $w_{k-N+1}\\dots w_{k-1}$ is the number of continuations $w_n$ equal to **one**? Calculate the percentage of such cases for the different orders *N*.\n",
    "\n",
    "And which history has the **most possible continuations**?"
   ]
  },
  {
   "cell_type": "code",
   "execution_count": 27,
   "metadata": {
    "collapsed": true
   },
   "outputs": [],
   "source": [
    "### ANSWER ###"
   ]
  },
  {
   "cell_type": "markdown",
   "metadata": {},
   "source": [
    "## Excercise 2.3 (5 points)\n",
    "\n",
    "Let $V$ denote our vocabulary. Recall that for any $w$ in $V$ `bigram[w]` defines a conditional probability $p(v|w)$ over $v$ in $V$. In the case of an **unsmoothed bigram**, $p(v|w) = 0$ for most $v\\in V$, whereas in the **smoothed bigram** smoothing took care that $p(v|w) \\geq 0$ for *all* $v$.\n",
    "\n",
    "The function `plot_bigram_dist(word, bigram, smoothbigram, k=30)` plots shows $p(v|word)$ for the `k` words $v$. One bar shows the probabilities in `bigram` and one in `smoothbigram`. \n",
    "\n",
    "**(a)** Use this function to plot the distribution for at least two words `w` and answer the questions\n",
    "* What is the effect of smoothing on the bigram distribution of frequent words? \n",
    "* What is the effect in the case of infrequent words?\n",
    "* Explain the difference between the two based on the raw counts of `w` \n",
    "\n",
    "**(b)** Now experiment with $k$ much smaller than 1 (but greater than 0!) \n",
    "* What are the effects?\n",
    "\n",
    "\n",
    "**[Hint]** Remember that add-1 smoothing turns \n",
    "$$P(w_n\\mid w_{n-1}) = \\frac{C(w_{n-1}w_{n})}{C(w_{n-1})}$$\n",
    "into\n",
    "$$P_{add-1}(w_n\\mid w_{n-1}) = \\frac{C(w_{n-1}w_{n}) + 1}{C(w_{n-1}) + |V|}.$$\n",
    "\n",
    "What happens when $C(w_{n-1})$ is relatively big (similiar in of size as $ |V| $)? And what if $C(w_{n-1})$ is small? "
   ]
  },
  {
   "cell_type": "code",
   "execution_count": 28,
   "metadata": {
    "collapsed": true
   },
   "outputs": [],
   "source": [
    "import pandas as pd\n",
    "import seaborn as sns    \n",
    "\n",
    "def plot_bigram_dist(word, bigram, smoothbigram, k=30):\n",
    "    d = bigram[word]\n",
    "    ds = smoothbigram[word]\n",
    "    \n",
    "    # sort the probabilities\n",
    "    d_sort = sorted(d.items(), reverse=True, key=lambda t: t[1])[0:k]\n",
    "    ds_sort = sorted(ds.items(), reverse=True, key=lambda t: t[1])[0:k]\n",
    "    \n",
    "    _, probs = zip(*d_sort)\n",
    "    smooth_ws, smooth_probs = zip(*ds_sort)\n",
    "    \n",
    "    # make up for the fact that in the unsmoothed case  probs is generally less than k long\n",
    "    probs = probs + (0,) * (k-len(probs)) \n",
    "\n",
    "    w_data = pd.DataFrame({\"w\": smooth_ws * 2,\n",
    "                           \"P({}|w)\".format(word): probs + smooth_probs,\n",
    "                           \"smoothing\": [\"unsmoothed\"]*k + [\"smoothed\"]*k})\n",
    "    \n",
    "    fig, ax = plt.subplots(figsize=(10,10))\n",
    "    plt.xticks(rotation=90)\n",
    "    g = sns.barplot(ax=ax, x=\"w\", y=\"P({}|w)\".format(word), hue=\"smoothing\",\n",
    "                    data=w_data, palette=\"Blues_d\")    "
   ]
  },
  {
   "cell_type": "code",
   "execution_count": 29,
   "metadata": {
    "scrolled": false
   },
   "outputs": [
    {
     "data": {
      "image/png": "[encoded data removed]",
      "text/plain": [
       "<matplotlib.figure.Figure at 0x23b98982048>"
      ]
     },
     "metadata": {},
     "output_type": "display_data"
    },
    {
     "data": {
      "image/png": "[encoded data removed]",
      "text/plain": [
       "<matplotlib.figure.Figure at 0x23b98d3ca58>"
      ]
     },
     "metadata": {},
     "output_type": "display_data"
    },
    {
     "data": {
      "image/png": "[encoded data removed]",
      "text/plain": [
       "<matplotlib.figure.Figure at 0x23b955a60f0>"
      ]
     },
     "metadata": {},
     "output_type": "display_data"
    },
    {
     "data": {
      "image/png": "[encoded data removed]",
      "text/plain": [
       "<matplotlib.figure.Figure at 0x23b9575eba8>"
      ]
     },
     "metadata": {},
     "output_type": "display_data"
    }
   ],
   "source": [
    "# plots for k = 0\n",
    "bigram_smoothed_1, _ = train_ngram(data, N=2, k=1)\n",
    "plot_bigram_dist('<s>', bigram, bigram_smoothed_1)\n",
    "plot_bigram_dist('exciting', bigram, bigram_smoothed_1)\n",
    "\n",
    "#plots for k = 0.05\n",
    "bigram_smoothed_05, _ = train_ngram(data, N=2, k=0.05)\n",
    "plot_bigram_dist('<s>', bigram, bigram_smoothed_05)\n",
    "plot_bigram_dist('exciting', bigram, bigram_smoothed_05)"
   ]
  },
  {
   "cell_type": "markdown",
   "metadata": {},
   "source": [
    "a) For a frequent word, the smoothing affects the probability significantly (probability decreases) because a large portion of the probability mass is moved to unobserved words.\n",
    "\n",
    "For a non-frequent word, smoothing decreases its probability, but the change is smaller compared to that of a frequent word.\n",
    "\n",
    "The reconstructed count formula is given as $(c_n + k) \\frac{c_{n-1}}{c_{n-1}+kV}$. For a frequent word, $kV \\ll c_n$. We are in effect, lowering the non-zero counts of some words and assigning it to zero counts. The change in counts for non-frequent words is smaller than for frequent words.\n",
    "\n",
    "\n",
    "b) For $k \\ll 1$, the decrease in probability for frequent words is smaller compared to 1-smoothing since we moving less of the probability mass from the seen to the unseen events. As k decreases, the k-smoothing probabilities approach un-smoothed probabilities."
   ]
  },
  {
   "cell_type": "markdown",
   "metadata": {},
   "source": [
    "\n",
    "**Recall** that if we have a sentence $w_1,\\dots,w_n$ we can write\n",
    "\n",
    "$$P(w_1\\dots w_n) = P(w_1)P(w_2|w_1) \\cdots P(w_i|w_1 \\dots w_{n-1}) \\approx P(w_1)P(w_2|w_1)\\cdots P(w_{N-1}|w_1\\dots w_{N-2})\\prod_{i=N}^{n} P(w_i|w_{i-(N-1)}\\dots w_{i-1})$$\n",
    "\n",
    "where in the last step we make an $N$-gram approximation of the full conditionals.\n",
    "\n",
    "For example, in the case of a bigram (N=2), the above expression reduces to\n",
    "\n",
    "$$P(w_1 \\dots w_n)\\approx P(w_1)\\prod_{i=2}^{n} P(w_i| w_{i-1}).$$\n",
    "\n",
    "## Exercise 2.4 (5 points)\n",
    "\n",
    "The following sentences are taken from the **training data**. Use your **unsmoothed unigram**, **bigram**, and **trigram** language model to estimate their **probabilities**:\n",
    "\n",
    "    1. Every day was about creating something new .\n",
    "    2. In this machine , a beam of protons and anti-protons are accelerated to near the speed of light and brought \n",
    "       together in a collision , producing a burst of pure energy .\n",
    "\n",
    "**Repeat** this with the **smoothed (add-1)** versions of the N-grams. What is the effect of smoothing on the probabilities?\n"
   ]
  },
  {
   "cell_type": "code",
   "execution_count": 30,
   "metadata": {},
   "outputs": [
    {
     "name": "stdout",
     "output_type": "stream",
     "text": [
      "Un-smoothed models\n",
      "   sentence 1 probability:  6.037560695238005e-13\n",
      "   sentence 2 probability:  1.7900499243681184e-32\n",
      "Add-1 (smoothing) models\n",
      "   sentence 1 probability:  8.979098499226339e-34\n",
      "   sentence 2 probability:  3.641572783364903e-135\n"
     ]
    }
   ],
   "source": [
    "def sentence_probability(unigram, bigram, trigram, sent):\n",
    "    '''\n",
    "    Function computes the probability of a sentence for the given language models\n",
    "    '''\n",
    "    sent = sent.split()\n",
    "    probability = unigram[sent[0]] * bigram[sent[0]][sent[1]]\n",
    "    \n",
    "    for i in range(2, len(sent)):\n",
    "        history = ' '.join(sent[i - 2:i])\n",
    "        probability *= trigram[history][sent[i]]\n",
    "        \n",
    "    return probability\n",
    "\n",
    "\n",
    "sent_1 = 'Every day was about creating something new .'\n",
    "sent_2 = 'In this machine , a beam of protons and anti-protons are accelerated to near the speed of light and brought together in a collision , producing a burst of pure energy .'\n",
    "\n",
    "# un_smoothed models\n",
    "print('Un-smoothed models')\n",
    "print('   sentence 1 probability: ', sentence_probability(unigram, bigram, trigram, sent_1))\n",
    "print('   sentence 2 probability: ', sentence_probability(unigram, bigram, trigram, sent_2))\n",
    "\n",
    "print('Add-1 (smoothing) models')\n",
    "print('   sentence 1 probability: ', sentence_probability(unigram_smoothed_1, bigram_smoothed_1, trigram_smoothed_1, sent_1))\n",
    "print('   sentence 2 probability: ', sentence_probability(unigram_smoothed_1, bigram_smoothed_1, trigram_smoothed_1, sent_2))"
   ]
  },
  {
   "cell_type": "markdown",
   "metadata": {},
   "source": [
    "Probability of the sentence decreases when smoothing is introduced since probability mass is distributed to parts of sentences that aren't observed."
   ]
  },
  {
   "cell_type": "markdown",
   "metadata": {},
   "source": [
    "## Exercise 2.5 (5 points)\n",
    "\n",
    "The above sentences were taken from the training set, hence they will all have probability greater than 0. The big challenge for our language model are of course with sentence that contain unseen N-grams: if such an N-gram occurs our model immediately assigns the sentence probability zero.\n",
    "\n",
    "The following three senteces are taken from the **test set** availlable in the file **ted-test.txt**. What probabilities do your smoothed and unsmoothed language models asign in this case?\n",
    "\n",
    "    1. Because these robots are really safe .\n",
    "    2. We have sheer nothingness on one side , and we have this vision of a reality that encompasses every \n",
    "       conceivable world at the other extreme : the fullest possible reality , nothingness , the simplest possible \n",
    "       reality ."
   ]
  },
  {
   "cell_type": "code",
   "execution_count": 31,
   "metadata": {},
   "outputs": [
    {
     "name": "stdout",
     "output_type": "stream",
     "text": [
      "Un-smoothed models\n",
      "   sentence 1 probability:  0.0\n",
      "   sentence 2 probability:  0.0\n",
      "Add-1 (smoothing) models\n",
      "   sentence 1 probability:  2.298111204730343e-31\n",
      "   sentence 2 probability:  3.302830414691981e-159\n"
     ]
    }
   ],
   "source": [
    "sent_1 = 'Because these robots are really safe .'\n",
    "sent_2 = 'We have sheer nothingness on one side , and we have this vision of a reality that encompasses every conceivable world at the other extreme : the fullest possible reality , nothingness , the simplest possible reality .'\n",
    "\n",
    "# un_smoothed models\n",
    "print('Un-smoothed models')\n",
    "print('   sentence 1 probability: ', sentence_probability(unigram, bigram, trigram, sent_1))\n",
    "print('   sentence 2 probability: ', sentence_probability(unigram, bigram, trigram, sent_2))\n",
    "\n",
    "print('Add-1 (smoothing) models')\n",
    "print('   sentence 1 probability: ', sentence_probability(unigram_smoothed_1, bigram_smoothed_1, trigram_smoothed_1, sent_1))\n",
    "print('   sentence 2 probability: ', sentence_probability(unigram_smoothed_1, bigram_smoothed_1, trigram_smoothed_1, sent_2))"
   ]
  },
  {
   "cell_type": "markdown",
   "metadata": {},
   "source": [
    "Probability for un-smoothed models is 0 since they contain phrases which wasn't observed before. This is not so for the smoothing case."
   ]
  },
  {
   "cell_type": "markdown",
   "metadata": {},
   "source": [
    "### [Optional]\n",
    "\n",
    "**Optional** What percentage of the sentences in the test set get assigned probability 0 under your smoothed and unsmoothed language models? "
   ]
  },
  {
   "cell_type": "code",
   "execution_count": 32,
   "metadata": {
    "collapsed": true
   },
   "outputs": [],
   "source": [
    "### ANSWER HERE ###"
   ]
  },
  {
   "cell_type": "markdown",
   "metadata": {},
   "source": [
    "## Exercise 2.6 (5 points)\n",
    "\n",
    "**Perplexity** is very frequently used **metric** for evaluating probabilistic models such as language models. The perplexity (sometimes called **PP** for short) of a language model on a sentence is the **inverse probability** of the sentence, **normalized** by the number of words:\n",
    "\n",
    "$$PP(w_1 \\dots w_n) = P(w_1\\dots w_n)^{-\\frac{1}{n}}.$$\n",
    "\n",
    "Here we can again approximate $P(w_1 \\dots w_n)$ with N-gram probabilities, as above.\n",
    "Note: $(x_1\\cdots x_n)^{-\\frac{1}{n}}$ is the **geometric mean** of the numbers $x_1,\\dots,x_n$. It is like the (regular) artithmetic mean, but with **products** instead of **sums**. The geometric mean is a more natural choice in the case of *PP* because behind $P(w_1\\dots w_n)$ is a series of $n$ products ([more here](https://en.wikipedia.org/wiki/Geometric_mean)).\n",
    "\n",
    "\n",
    "\n",
    "Compute the perplexity of the training sentences from excercise 2.1. What big difference between the **probabilities** of the sentences and the **perplexities** of the sentences do you notice?"
   ]
  },
  {
   "cell_type": "code",
   "execution_count": 33,
   "metadata": {},
   "outputs": [
    {
     "name": "stdout",
     "output_type": "stream",
     "text": [
      "Un-smoothed models\n",
      "   sentence 1 probability:  1.895429750370659\n",
      "   sentence 2 probability:  1.545151403870619\n",
      "Add-1 (smoothing) models\n",
      "   sentence 1 probability:  5.637192849423166\n",
      "   sentence 2 probability:  6.31292198930421\n"
     ]
    }
   ],
   "source": [
    "def sentence_perplexity(unigram, bigram, trigram, sent):\n",
    "    probability = sentence_probability(unigram, bigram, trigram, sent)\n",
    "    return probability ** (-1 / len(sent)) if probability else 0\n",
    "\n",
    "\n",
    "sent_1 = 'Every day was about creating something new .'\n",
    "sent_2 = 'In this machine , a beam of protons and anti-protons are accelerated to near the speed of light and brought together in a collision , producing a burst of pure energy .'\n",
    "\n",
    "# un_smoothed models\n",
    "print('Un-smoothed models')\n",
    "print('   sentence 1 probability: ', sentence_perplexity(unigram, bigram, trigram, sent_1))\n",
    "print('   sentence 2 probability: ', sentence_perplexity(unigram, bigram, trigram, sent_2))\n",
    "\n",
    "print('Add-1 (smoothing) models')\n",
    "print('   sentence 1 probability: ', sentence_perplexity(unigram_smoothed_1, bigram_smoothed_1, trigram_smoothed_1, sent_1))\n",
    "print('   sentence 2 probability: ', sentence_perplexity(unigram_smoothed_1, bigram_smoothed_1, trigram_smoothed_1, sent_2))"
   ]
  },
  {
   "cell_type": "markdown",
   "metadata": {},
   "source": [
    "Perplexity is inversely proportional to probability. For an increase in probability we can observe a decrease in perplexity."
   ]
  },
  {
   "cell_type": "markdown",
   "metadata": {},
   "source": [
    "# That's it!\n",
    "\n",
    "Congratulations, you have made it to the end of the tutorial. Here we will recap the gist of this notebook. \n",
    "\n",
    "**Make sure all your cells can be executed and all your answers are there. Then, read on if you're interested!**\n",
    "\n",
    "-----\n",
    "\n",
    "By now you should have a solid feeling for the problem of **sparsity in language data**; there's just never enough data. For the task of language modelling, we saw that sparsity is a serious challenge. \n",
    "\n",
    "It would be great to be able to model $p(w_n|w_1 \\dots w_{n-1})$ for unlimited $n$: the larger $n$ the better our language model should become at capturing the long-range dependencies between words that characterize actual human sentences, and the more probability our model will asign to such sentences as opposed to sentences that are word-soup. But in the N-gram approach, increasing $n$ will quickly kill all generalizing abilities of the model: the model will start to asign probabilities only to sentences it has seen in the training data.\n",
    "\n",
    "So, where to go from here? Here are three directions that we could head in.\n",
    "\n",
    "### Smoothing\n",
    "\n",
    "We have seen one example of smoothing in this lab: add-k smoothing. This is an easy method, both conceptually and implementation-wise. But the results are not great, and the effects it has on the distributions can be extreme.\n",
    "\n",
    "A much more sophisticated method of smoothing is so-called **Kneser-Ney smoothing**. The method is described in detail in section 4.5 of J&M (3rd edition). This is one of the best performing N-gram smoothing methods, and up to a few years ago a popular implementation of it called [KenLM](https://kheafield.com/code/kenlm/) gave state of the art results.\n",
    "\n",
    "### From words to characters\n",
    "\n",
    "In this lab we have considered language modeling as the task of predicting a **word** $w_n$ based on a history of **words** $w_1\\cdots w_n$. What if instead we let our basic units of modelling be **characters**? The task then becomes to model $p(c_k\\mid c_{k-N-1}\\dots c_{k-1})$ where each $c_i$ is now an ASCII character instead of an entire word.\n",
    "\n",
    "Suddenly sparsity of data is no longer a problem! The set of characters to use is tiny (< 100) compared to even a small-sized vocabulary as today. Have a look at this very illustrative notebook written by Yoav Golberg to see such a method in action: [The unreasonable effectiveness of Character-level Language Models](http://nbviewer.jupyter.org/gist/yoavg/d76121dfde2618422139).\n",
    "\n",
    "(So what is the downside?)\n",
    "\n",
    "\n",
    "### Neural language models\n",
    "\n",
    "The above notebook was actually written as a response to this blog post by Andrej Karpathy: [The Unreasonable Effectiveness of Recurrent Neural Networks](http://karpathy.github.io/2015/05/21/rnn-effectiveness/). Go ahead and read it if you haven't already: it is a superb introduction to the topic of Recurrent Neural Networks.\n",
    "\n",
    "Neural language models solve the problem of data sparsity in a different manner. Instead of estimating the probabilities $p(w_k\\mid w_{k-N-1}\\dots w_{k-1})$ by counting occurences in the data, they use a neural network $f_{\\theta}$ parametrized by parameters $\\theta$ to predict this probability. The parameters $\\theta$ are learned through optimization. \n",
    "\n",
    "The simplest approach goes like this: each word in the history $w_{k-N-1}\\dots w_{k-1}$ is embedded separately giving  vectors $e_{k-N-1}\\dots e_{k-1}$ and then concatenated into one long vectors $[e_{k-N-1};\\dots ;e_{k-1}]$. The network then uses this history vector to predict a probability distribution over words $w$ in the vocabulary $V$:\n",
    "\n",
    "$$p(w \\mid w_{k-N-1}\\dots w_{k-1}) = f_{\\theta}([e_{k-N-1};\\dots;e_{k-1}]).$$\n",
    "\n",
    "(In order to produce legitimate probabilities the final layer of such a network will be for example a $softmax$.)\n",
    "\n",
    "This provides a solution to the sparsity problem by having the network let the individual embeddings of the words in the history interact through its non-linear transforamtion. We are letting the network figure out the smoothing itself!\n",
    "\n",
    "RNNs are a clever extension of this idea, where a hidden state vector $h$ is re-used and updated at each step $k$ in order to store the information of the entire history up to step $k-1$. That is, an RNN actually does away with the N-order approximation; it tries to model the full conditional directly! That means that\n",
    "\n",
    "$$p(w \\mid w_1\\dots w_{k-1}) \\approx RNN_{\\theta}([e_{k-1};h_{k-1}])$$\n",
    "\n",
    "where the hidden state $h_{k-1}$ is a compression of the *entire history* $w_1\\dots w_{k-1}$.\n",
    "\n",
    "Another great place to learn about RNNs, their problems, and solutions to those, is on the blog of [Christopher Olah](http://colah.github.io/posts/2015-08-Understanding-LSTMs/). The project on language modelling will involve learning more about these methods. \n",
    "\n",
    "-----------\n",
    "(And now, it's time to read the classic essay by Eugene Wigner that gave both of the posts their title: [The Unreasonable Effectiveness of Mathematics in the Natural Sciences](http://www.dartmouth.edu/~matc/MathDrama/reading/Wigner.html))"
   ]
  }
 ],
 "metadata": {
  "anaconda-cloud": {},
  "kernelspec": {
   "display_name": "Python 3",
   "language": "python",
   "name": "python3"
  },
  "language_info": {
   "codemirror_mode": {
    "name": "ipython",
    "version": 3
   },
   "file_extension": ".py",
   "mimetype": "text/x-python",
   "name": "python",
   "nbconvert_exporter": "python",
   "pygments_lexer": "ipython3",
   "version": "3.6.2"
  }
 },
 "nbformat": 4,
 "nbformat_minor": 1
}
